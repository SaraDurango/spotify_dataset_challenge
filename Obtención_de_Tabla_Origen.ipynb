{
  "nbformat": 4,
  "nbformat_minor": 0,
  "metadata": {
    "colab": {
      "provenance": []
    },
    "kernelspec": {
      "name": "python3",
      "display_name": "Python 3"
    },
    "language_info": {
      "name": "python"
    }
  },
  "cells": [
    {
      "cell_type": "markdown",
      "source": [
        "***PROCESAMIENTO PARA OBTENCIÓN DE TABLA ORIGEN***\n",
        "\n",
        "A continuación se detalla el procedimiento para obtener la tabla origen(datos crudos), la cual se establece a partir de una muestra con 10.000 registros del dataset original. Dicha muestra ya estaba dada como subconjunto de datos con formato JSON en el reto de Spotify.\n",
        "\n",
        "Detallaremos los pasos necesarios para descargar el archivo, descomprimirlo, procesarlo para obtener la tabla rigen y, finalmente, descargar dicha tabla en formato CSV para trabajar con ella posteriormente."
      ],
      "metadata": {
        "id": "r7lX8duWFMwY"
      }
    },
    {
      "cell_type": "code",
      "metadata": {
        "id": "dZEv3U1Nf5l_"
      },
      "source": [
        "%config InlineBackend.figure_format = 'retina'"
      ],
      "execution_count": null,
      "outputs": []
    },
    {
      "cell_type": "code",
      "metadata": {
        "colab": {
          "base_uri": "https://localhost:8080/"
        },
        "id": "SzBS24ZlgSHq",
        "outputId": "c750a4be-a2bb-418b-9145-6dd7333e9708"
      },
      "source": [
        "#Se importa la biblioteca drive de Google Colab y se utiliza la función drive.mount('/content/drive') para montar Google Drive en el entorno y poder acceder a archivos y directorios almacenados en Google Drive desde el entorno de Colab.\n",
        "#Al ejecutar esta línea, se le pedirá que proporcione una autorización para acceder a Google Drive\n",
        "from google.colab import drive\n",
        "drive.mount('/content/drive')"
      ],
      "execution_count": null,
      "outputs": [
        {
          "output_type": "stream",
          "name": "stdout",
          "text": [
            "Drive already mounted at /content/drive; to attempt to forcibly remount, call drive.mount(\"/content/drive\", force_remount=True).\n"
          ]
        }
      ]
    },
    {
      "cell_type": "code",
      "metadata": {
        "id": "MVZ8pbVfgGcx",
        "colab": {
          "base_uri": "https://localhost:8080/"
        },
        "outputId": "97f97d2c-2240-42bb-ca36-57d4211a1c62"
      },
      "source": [
        "#Se importan las bibliotecas Pathlib y Os para trabajar con rutas de archivos.\n",
        "\n",
        "from pathlib import Path\n",
        "import os\n",
        "\n",
        "#Se utiliza Path(os.path.expanduser(\"~\")) / \"Downloads\" para obtener la ruta de la carpeta de descargas en Windows.\n",
        "#En esta ruta se almacena en la variable basepath\n",
        "basepath = Path(os.path.expanduser(\"~\")) / \"Downloads\"\n",
        "\n",
        "#Se construyen las rutas completas a dos archivos específicos, 'spotify_million_playlist_dataset_challenge.zip' y 'spotify_million_playlist_dataset.zip', en la carpeta de descargas.\n",
        "#Estas rutas completas se almacenan en las variables challenge_dataset_path y full_dataset_path.\n",
        "challenge_dataset_path = basepath / 'spotify_million_playlist_dataset_challenge.zip'\n",
        "full_dataset_path = basepath / 'spotify_million_playlist_dataset.zip'\n",
        "\n",
        "#Se muestra la ruta de la carpeta de descargas (basepath) en la salida para verificar la ubicación de la carpeta en el sistema de archivos.\n",
        "basepath"
      ],
      "execution_count": null,
      "outputs": [
        {
          "output_type": "execute_result",
          "data": {
            "text/plain": [
              "PosixPath('/root/Downloads')"
            ]
          },
          "metadata": {},
          "execution_count": 344
        }
      ]
    },
    {
      "cell_type": "code",
      "metadata": {
        "id": "wkjXFuEZgjq_",
        "colab": {
          "base_uri": "https://localhost:8080/"
        },
        "outputId": "ccb0d38b-f4b1-4de4-a493-d69e77fcfe89"
      },
      "source": [
        "#Instalación de Java (OpenJDK 8) en el entorno de ejecución de Colab\n",
        "!apt-get install openjdk-8-jdk-headless -qq > /dev/null\n",
        "\n",
        "#Descargar Apache Spark desde una URL y guardar el archivo en la carpeta de descargas\n",
        "!wget  https://dlcdn.apache.org/spark/spark-3.5.0/spark-3.5.0-bin-hadoop3.tgz -P '{str(basepath)}'\n",
        "\n",
        "#Instalar la biblioteca FindSpark para simplificar la integración de Apache Spark con e el entorno de Python en Colab\n",
        "!pip install  findspark\n",
        "\n"
      ],
      "execution_count": null,
      "outputs": [
        {
          "output_type": "stream",
          "name": "stdout",
          "text": [
            "--2023-11-10 04:45:33--  https://dlcdn.apache.org/spark/spark-3.5.0/spark-3.5.0-bin-hadoop3.tgz\n",
            "Resolving dlcdn.apache.org (dlcdn.apache.org)... 151.101.2.132, 2a04:4e42::644\n",
            "Connecting to dlcdn.apache.org (dlcdn.apache.org)|151.101.2.132|:443... connected.\n",
            "HTTP request sent, awaiting response... 200 OK\n",
            "Length: 400395283 (382M) [application/x-gzip]\n",
            "Saving to: ‘/root/Downloads/spark-3.5.0-bin-hadoop3.tgz.12’\n",
            "\n",
            "spark-3.5.0-bin-had 100%[===================>] 381.85M   182MB/s    in 2.1s    \n",
            "\n",
            "2023-11-10 04:45:36 (182 MB/s) - ‘/root/Downloads/spark-3.5.0-bin-hadoop3.tgz.12’ saved [400395283/400395283]\n",
            "\n",
            "Requirement already satisfied: findspark in /usr/local/lib/python3.10/dist-packages (2.0.1)\n"
          ]
        }
      ]
    },
    {
      "cell_type": "code",
      "metadata": {
        "colab": {
          "base_uri": "https://localhost:8080/"
        },
        "id": "B3qkuFkDgJGv",
        "outputId": "88d19296-544d-4236-838b-61aa9931084b"
      },
      "source": [
        "#Descomprimimos el conjunto de datos, el cual se encuentra en una carpeta comprimida llamada 'spotify_million_playlist_dataset_challenge.zip'.\n",
        "#Esta carpeta se encuentra en el link https://drive.google.com/file/d/1VTgm7UdzeTlqfrymG_o_niVIK_EeYFM6/view?usp=drive_link, debe descargarse y subirse a Colab previamente.\n",
        "\n",
        "!time unzip  '/content/spotify_million_playlist_dataset_challenge.zip'\n",
        "\n",
        "\n"
      ],
      "execution_count": null,
      "outputs": [
        {
          "output_type": "stream",
          "name": "stdout",
          "text": [
            "Archive:  /content/spotify_million_playlist_dataset_challenge.zip\n",
            "replace md5? [y]es, [n]o, [A]ll, [N]one, [r]ename: \n",
            "real\t0m3.644s\n",
            "user\t0m0.000s\n",
            "sys\t0m0.002s\n"
          ]
        }
      ]
    },
    {
      "cell_type": "code",
      "metadata": {
        "colab": {
          "base_uri": "https://localhost:8080/"
        },
        "id": "0IqXT7mTgJ8X",
        "outputId": "a2f4cab9-7abb-4e93-a296-d7fc499441c9"
      },
      "source": [
        "#Verificamos ubicación del archivo y contenido de la carpeta descomprimida\n",
        "!pwd\n",
        "!ls"
      ],
      "execution_count": null,
      "outputs": [
        {
          "output_type": "stream",
          "name": "stdout",
          "text": [
            "/content\n",
            "challenge_set.json  md5\t\t spark-3.5.0-bin-hadoop3\n",
            "check.py\t    nohup.out\t spotify_million_playlist_dataset_challenge.zip\n",
            "drive\t\t    README.md\t verify_submission.py\n",
            "jprq_output\t    sample_data\n"
          ]
        }
      ]
    },
    {
      "cell_type": "code",
      "source": [
        "#Se descarga e instala Apache Spark en el entorno de Colab\n",
        "!wget -q https://dlcdn.apache.org/spark/spark-3.5.0/spark-3.5.0-bin-hadoop3.tgz\n",
        "!tar xf spark-3.5.0-bin-hadoop3.tgz\n",
        "!mv spark-3.5.0-bin-hadoop3 /opt/\n"
      ],
      "metadata": {
        "colab": {
          "base_uri": "https://localhost:8080/"
        },
        "id": "seojAkN14lRV",
        "outputId": "1a732237-0017-45ed-e30b-add9f8ee60d2"
      },
      "execution_count": null,
      "outputs": [
        {
          "output_type": "stream",
          "name": "stdout",
          "text": [
            "mv: cannot move 'spark-3.5.0-bin-hadoop3' to '/opt/spark-3.5.0-bin-hadoop3': Directory not empty\n"
          ]
        }
      ]
    },
    {
      "cell_type": "code",
      "source": [
        "#Se hace una verificación de actualizaciones\n",
        "!apt-get update\n",
        "!apt-get install openjdk-8-jdk-headless -qq > /dev/null\n"
      ],
      "metadata": {
        "colab": {
          "base_uri": "https://localhost:8080/"
        },
        "id": "HZpexT5u30ni",
        "outputId": "f9dae3f5-a364-4c8b-d0ed-ebd36d276c4e"
      },
      "execution_count": null,
      "outputs": [
        {
          "output_type": "stream",
          "name": "stdout",
          "text": [
            "\r0% [Working]\r            \rHit:1 http://security.ubuntu.com/ubuntu jammy-security InRelease\n",
            "\r0% [Connecting to archive.ubuntu.com (185.125.190.39)] [Connected to cloud.r-project.org (52.85.151.\r                                                                                                    \rHit:2 https://cloud.r-project.org/bin/linux/ubuntu jammy-cran40/ InRelease\n",
            "\r0% [Waiting for headers] [Connected to ppa.launchpadcontent.net (185.125.190.52)] [Waiting for heade\r                                                                                                    \rHit:3 http://archive.ubuntu.com/ubuntu jammy InRelease\n",
            "Hit:4 https://developer.download.nvidia.com/compute/cuda/repos/ubuntu2204/x86_64  InRelease\n",
            "Hit:5 http://archive.ubuntu.com/ubuntu jammy-updates InRelease\n",
            "Hit:6 http://archive.ubuntu.com/ubuntu jammy-backports InRelease\n",
            "Hit:7 https://ppa.launchpadcontent.net/c2d4u.team/c2d4u4.0+/ubuntu jammy InRelease\n",
            "Hit:8 https://ppa.launchpadcontent.net/deadsnakes/ppa/ubuntu jammy InRelease\n",
            "Hit:9 https://ppa.launchpadcontent.net/graphics-drivers/ppa/ubuntu jammy InRelease\n",
            "Hit:10 https://ppa.launchpadcontent.net/ubuntugis/ppa/ubuntu jammy InRelease\n",
            "Reading package lists... Done\n"
          ]
        }
      ]
    },
    {
      "cell_type": "code",
      "source": [
        "#Configuramos las variables de entorno para Spark y Java\n",
        "import os\n",
        "os.environ[\"SPARK_HOME\"] = \"/opt/spark-3.5.0-bin-hadoop3\"\n",
        "os.environ[\"JAVA_HOME\"] = \"/usr/lib/jvm/java-8-openjdk-amd64\"\n"
      ],
      "metadata": {
        "id": "F1tF23RM42EA"
      },
      "execution_count": null,
      "outputs": []
    },
    {
      "cell_type": "code",
      "source": [
        "#Se descarga la librería Findspark para inicializar Spark en el entorno de Python\n",
        "!pip install findspark\n"
      ],
      "metadata": {
        "colab": {
          "base_uri": "https://localhost:8080/"
        },
        "id": "GlQ9so8744iT",
        "outputId": "bf851e39-8091-4e80-8b47-eec1223f49aa"
      },
      "execution_count": null,
      "outputs": [
        {
          "output_type": "stream",
          "name": "stdout",
          "text": [
            "Requirement already satisfied: findspark in /usr/local/lib/python3.10/dist-packages (2.0.1)\n"
          ]
        }
      ]
    },
    {
      "cell_type": "code",
      "source": [
        "#Se inicializa una sesión de Spark\n",
        "import findspark\n",
        "findspark.init()\n",
        "\n",
        "from pyspark.sql import SparkSession\n",
        "\n",
        "spark = SparkSession.builder \\\n",
        "    .appName(\"Colab\") \\\n",
        "    .config(\"spark.driver.memory\", \"9g\") \\\n",
        "    .config('spark.ui.port', '4050') \\\n",
        "    .getOrCreate()\n"
      ],
      "metadata": {
        "id": "m3UZVG0M49Wa"
      },
      "execution_count": null,
      "outputs": []
    },
    {
      "cell_type": "code",
      "metadata": {
        "colab": {
          "base_uri": "https://localhost:8080/",
          "height": 219
        },
        "id": "Yc_1XdoYgolo",
        "outputId": "91fe0ebf-e6f9-4ce9-aa71-aba6fa758c4f"
      },
      "source": [
        "#Configuramos SPARK_HOME con la ruta de instalación de Spark\n",
        "#Importamos Findspark y creamos la sesión de Spark\n",
        "import os\n",
        "\n",
        "import findspark\n",
        "findspark.init()\n",
        "\n",
        "from pyspark.sql import SparkSession\n",
        "import findspark\n",
        "findspark.init()\n",
        "findspark.find()\n",
        "from pyspark.sql import SparkSession\n",
        "spark = SparkSession.builder\\\n",
        "         .master(\"local\")\\\n",
        "         .appName(\"Colab\")\\\n",
        "         .config(\"spark.driver.memory\", \"9g\")\\\n",
        "         .config('spark.ui.port', '4050')\\\n",
        "         .getOrCreate()\n",
        "spark\n",
        "\n",
        "\n"
      ],
      "execution_count": null,
      "outputs": [
        {
          "output_type": "execute_result",
          "data": {
            "text/plain": [
              "<pyspark.sql.session.SparkSession at 0x7cf814b257e0>"
            ],
            "text/html": [
              "\n",
              "            <div>\n",
              "                <p><b>SparkSession - in-memory</b></p>\n",
              "                \n",
              "        <div>\n",
              "            <p><b>SparkContext</b></p>\n",
              "\n",
              "            <p><a href=\"http://8d00c10dff9b:4050\">Spark UI</a></p>\n",
              "\n",
              "            <dl>\n",
              "              <dt>Version</dt>\n",
              "                <dd><code>v3.5.0</code></dd>\n",
              "              <dt>Master</dt>\n",
              "                <dd><code>local[*]</code></dd>\n",
              "              <dt>AppName</dt>\n",
              "                <dd><code>GuardarCSV</code></dd>\n",
              "            </dl>\n",
              "        </div>\n",
              "        \n",
              "            </div>\n",
              "        "
            ]
          },
          "metadata": {},
          "execution_count": 353
        }
      ]
    },
    {
      "cell_type": "code",
      "metadata": {
        "id": "8iFNZSSugr30"
      },
      "source": [
        "#Se instala la biblioteca jprq\n",
        "!pip install -q jprq"
      ],
      "execution_count": null,
      "outputs": []
    },
    {
      "cell_type": "code",
      "metadata": {
        "colab": {
          "base_uri": "https://localhost:8080/"
        },
        "id": "h2azyw0ZgyBc",
        "outputId": "9d1c40ab-dc41-47bf-b1d4-6a184b5433e3"
      },
      "source": [
        "#Se establecen configuraciones para acceso a la interfaz web de Spark UI desde un navegador externo\n",
        "!nohup bash -c 'script -c \"jprq tcp 4050\" -f jprq_output' &\n",
        "!sleep 2"
      ],
      "execution_count": null,
      "outputs": [
        {
          "output_type": "stream",
          "name": "stdout",
          "text": [
            "nohup: appending output to 'nohup.out'\n"
          ]
        }
      ]
    },
    {
      "cell_type": "code",
      "metadata": {
        "colab": {
          "base_uri": "https://localhost:8080/"
        },
        "id": "l3_cqr8Vg13o",
        "outputId": "376f3400-138e-4fc6-85c1-37de8d85b28f"
      },
      "source": [
        "!ps -aux | grep jprq"
      ],
      "execution_count": null,
      "outputs": [
        {
          "output_type": "stream",
          "name": "stdout",
          "text": [
            "root       73998  0.0  0.0   7372  3472 ?        S    04:46   0:00 /bin/bash -c ps -aux | grep jprq\n",
            "root       74000  0.0  0.0   6480  2304 ?        S    04:46   0:00 grep jprq\n"
          ]
        }
      ]
    },
    {
      "cell_type": "code",
      "metadata": {
        "colab": {
          "base_uri": "https://localhost:8080/"
        },
        "id": "ue2mheF2g0pA",
        "outputId": "6e26e2a2-3130-4420-c375-ebcddb494498"
      },
      "source": [
        "!cat jprq_output"
      ],
      "execution_count": null,
      "outputs": [
        {
          "output_type": "stream",
          "name": "stdout",
          "text": [
            "Script started on 2023-11-10 04:46:30+00:00 [<not executed on terminal>]\n",
            "\r\n",
            "\u001b[1;36m  \u001b[0m\u001b[1;36m(\u001b[0m\u001b[1;36m_\u001b[0m\u001b[1;36m)\u001b[0m\u001b[1;36m_ __  _ __ __ _ \u001b[0m\r\n",
            "\u001b[1;36m  | | \u001b[0m\u001b[1;36m'_ \\| '\u001b[0m\u001b[1;36m__/ _` |\u001b[0m\r\n",
            "\u001b[1;36m  | | |_\u001b[0m\u001b[1;36m)\u001b[0m\u001b[1;36m | | | \u001b[0m\u001b[1;36m(\u001b[0m\u001b[1;36m_| |\u001b[0m\r\n",
            "\u001b[1;36m _/ | .__/|_|  \\__, |\u001b[0m\r\n",
            "\u001b[1;36m|__/|_|           |_|\u001b[0m\r\n",
            "\u001b[1;36m        v2.\u001b[0m\u001b[1;36m1.0\u001b[0m\r\n",
            "\r\n",
            "\u001b[1;33mPress Ctrl+C to quit.\u001b[0m\r\n",
            "\r\n",
            "Traceback (most recent call last):\r\n",
            "  File \"/usr/local/bin/jprq\", line 8, in <module>\r\n",
            "    sys.exit(main())\r\n",
            "  File \"/usr/local/lib/python3.10/dist-packages/click/core.py\", line 1128, in __call__\r\n",
            "    return self.main(*args, **kwargs)\r\n",
            "  File \"/usr/local/lib/python3.10/dist-packages/click/core.py\", line 1053, in main\r\n",
            "    rv = self.invoke(ctx)\r\n",
            "  File \"/usr/local/lib/python3.10/dist-packages/click/core.py\", line 1659, in invoke\r\n",
            "    return _process_result(sub_ctx.command.invoke(sub_ctx))\r\n",
            "  File \"/usr/local/lib/python3.10/dist-packages/click/core.py\", line 1395, in invoke\r\n",
            "    return ctx.invoke(self.callback, **ctx.params)\r\n",
            "  File \"/usr/local/lib/python3.10/dist-packages/click/core.py\", line 754, in invoke\r\n",
            "    return __callback(*args, **kwargs)\r\n",
            "  File \"/usr/local/lib/python3.10/dist-packages/jprq/main.py\", line 63, in tcp\r\n",
            "    loop.run_until_complete(\r\n",
            "  File \"/usr/lib/python3.10/asyncio/base_events.py\", line 649, in run_until_complete\r\n",
            "    return future.result()\r\n",
            "  File \"/usr/local/lib/python3.10/dist-packages/jprq/tunnel_tcp.py\", line 17, in open_tcp_tunnel\r\n",
            "    async with websockets.connect(ws_uri, ssl=ssl_context) as websocket:\r\n",
            "  File \"/usr/local/lib/python3.10/dist-packages/websockets/legacy/client.py\", line 604, in __aenter__\r\n",
            "    return await self\r\n",
            "  File \"/usr/local/lib/python3.10/dist-packages/websockets/legacy/client.py\", line 622, in __await_impl__\r\n",
            "    transport, protocol = await self._create_connection()\r\n",
            "  File \"/usr/lib/python3.10/asyncio/base_events.py\", line 1036, in create_connection\r\n",
            "    infos = await self._ensure_resolved(\r\n",
            "  File \"/usr/lib/python3.10/asyncio/base_events.py\", line 1418, in _ensure_resolved\r\n",
            "    return await loop.getaddrinfo(host, port, family=family, type=type,\r\n",
            "  File \"/usr/lib/python3.10/asyncio/base_events.py\", line 863, in getaddrinfo\r\n",
            "    return await self.run_in_executor(\r\n",
            "  File \"/usr/lib/python3.10/concurrent/futures/thread.py\", line 58, in run\r\n",
            "    result = self.fn(*self.args, **self.kwargs)\r\n",
            "  File \"/usr/lib/python3.10/socket.py\", line 955, in getaddrinfo\r\n",
            "    for res in _socket.getaddrinfo(host, port, family, type, proto, flags):\r\n",
            "socket.gaierror: [Errno -2] Name or service not known\r\n",
            "\n",
            "Script done on 2023-11-10 04:46:32+00:00 [COMMAND_EXIT_CODE=\"1\"]\n"
          ]
        }
      ]
    },
    {
      "cell_type": "code",
      "metadata": {
        "id": "aLKDAZHrg6Pk",
        "colab": {
          "base_uri": "https://localhost:8080/"
        },
        "outputId": "e8723e4d-e34c-4d3c-ba0a-746b4062cac4"
      },
      "source": [
        "#Se instala Pyspark para  procesamiento y análisis de datos utilizando Spark desde Python\n",
        "!pip install pyspark\n",
        "\n",
        "import matplotlib.pyplot as plt\n",
        "import pyspark.sql.functions as F\n",
        "from pyspark.sql.window import Window\n",
        "import pandas as pd"
      ],
      "execution_count": null,
      "outputs": [
        {
          "output_type": "stream",
          "name": "stdout",
          "text": [
            "Requirement already satisfied: pyspark in /usr/local/lib/python3.10/dist-packages (3.5.0)\n",
            "Requirement already satisfied: py4j==0.10.9.7 in /usr/local/lib/python3.10/dist-packages (from pyspark) (0.10.9.7)\n"
          ]
        }
      ]
    },
    {
      "cell_type": "code",
      "metadata": {
        "id": "rDbxFL0MhBuR"
      },
      "source": [
        "#Se crea el dataset con el la muestra de datos proporcionada por Spotify\n",
        "dataset_json_path = '/content/challenge_set.json'\n"
      ],
      "execution_count": null,
      "outputs": []
    },
    {
      "cell_type": "code",
      "source": [
        "num_followers_col_name = \"num_holdouts\"\n",
        "# num_followers_col_name = \"num_followers\""
      ],
      "metadata": {
        "id": "rwvqav_9IocZ"
      },
      "execution_count": null,
      "outputs": []
    },
    {
      "cell_type": "code",
      "metadata": {
        "id": "ePSM4HpuhDAy"
      },
      "source": [
        "#Se hace procesamiento de datos con Spark desde el archivo Json con la muestra de los datos\n",
        "df = spark.read.json(str(dataset_json_path), multiLine=True)\n",
        "\n",
        "from pyspark.sql import SparkSession\n",
        "\n",
        "\n",
        "spark = SparkSession.builder\\\n",
        "    .appName(\"Colab\")\\\n",
        "    .getOrCreate()\n",
        "\n"
      ],
      "execution_count": null,
      "outputs": []
    },
    {
      "cell_type": "code",
      "metadata": {
        "id": "Unwdw2DPhEIF",
        "colab": {
          "base_uri": "https://localhost:8080/"
        },
        "outputId": "f73f6fa7-38d6-45dd-eccc-728c4de014d3"
      },
      "source": [
        "#Se verifica el esquema del dataset\n",
        "df.printSchema()\n",
        "df.count()"
      ],
      "execution_count": null,
      "outputs": [
        {
          "output_type": "stream",
          "name": "stdout",
          "text": [
            "root\n",
            " |-- date: string (nullable = true)\n",
            " |-- description: string (nullable = true)\n",
            " |-- name: string (nullable = true)\n",
            " |-- playlists: array (nullable = true)\n",
            " |    |-- element: struct (containsNull = true)\n",
            " |    |    |-- name: string (nullable = true)\n",
            " |    |    |-- num_holdouts: long (nullable = true)\n",
            " |    |    |-- num_samples: long (nullable = true)\n",
            " |    |    |-- num_tracks: long (nullable = true)\n",
            " |    |    |-- pid: long (nullable = true)\n",
            " |    |    |-- tracks: array (nullable = true)\n",
            " |    |    |    |-- element: struct (containsNull = true)\n",
            " |    |    |    |    |-- album_name: string (nullable = true)\n",
            " |    |    |    |    |-- album_uri: string (nullable = true)\n",
            " |    |    |    |    |-- artist_name: string (nullable = true)\n",
            " |    |    |    |    |-- artist_uri: string (nullable = true)\n",
            " |    |    |    |    |-- duration_ms: long (nullable = true)\n",
            " |    |    |    |    |-- pos: long (nullable = true)\n",
            " |    |    |    |    |-- track_name: string (nullable = true)\n",
            " |    |    |    |    |-- track_uri: string (nullable = true)\n",
            " |-- version: string (nullable = true)\n",
            "\n"
          ]
        },
        {
          "output_type": "execute_result",
          "data": {
            "text/plain": [
              "1"
            ]
          },
          "metadata": {},
          "execution_count": 362
        }
      ]
    },
    {
      "cell_type": "code",
      "metadata": {
        "id": "ySqOrsdBhHOq",
        "colab": {
          "base_uri": "https://localhost:8080/"
        },
        "outputId": "a811b514-66a8-4716-b908-69b6cdee2398"
      },
      "source": [
        "#Creamos un dataframe con la información de las playlist\n",
        "playlists_df = (\n",
        "    df\n",
        "        .select(F.explode(\"playlists\").alias('playlist'))\n",
        "        .select(F.col(\"playlist.*\"))\n",
        ")\n",
        "playlists_df.printSchema()"
      ],
      "execution_count": null,
      "outputs": [
        {
          "output_type": "stream",
          "name": "stdout",
          "text": [
            "root\n",
            " |-- name: string (nullable = true)\n",
            " |-- num_holdouts: long (nullable = true)\n",
            " |-- num_samples: long (nullable = true)\n",
            " |-- num_tracks: long (nullable = true)\n",
            " |-- pid: long (nullable = true)\n",
            " |-- tracks: array (nullable = true)\n",
            " |    |-- element: struct (containsNull = true)\n",
            " |    |    |-- album_name: string (nullable = true)\n",
            " |    |    |-- album_uri: string (nullable = true)\n",
            " |    |    |-- artist_name: string (nullable = true)\n",
            " |    |    |-- artist_uri: string (nullable = true)\n",
            " |    |    |-- duration_ms: long (nullable = true)\n",
            " |    |    |-- pos: long (nullable = true)\n",
            " |    |    |-- track_name: string (nullable = true)\n",
            " |    |    |-- track_uri: string (nullable = true)\n",
            "\n"
          ]
        }
      ]
    },
    {
      "cell_type": "code",
      "metadata": {
        "id": "IAhFFd12hLBR",
        "colab": {
          "base_uri": "https://localhost:8080/"
        },
        "outputId": "08e8e215-ad58-464d-e224-67d7bb820175"
      },
      "source": [
        "#Verificamos el tamaño de la muestra del dataset\n",
        "playlists_df.count()"
      ],
      "execution_count": null,
      "outputs": [
        {
          "output_type": "execute_result",
          "data": {
            "text/plain": [
              "10000"
            ]
          },
          "metadata": {},
          "execution_count": 364
        }
      ]
    },
    {
      "cell_type": "code",
      "metadata": {
        "id": "gqKRTKuehMDn",
        "colab": {
          "base_uri": "https://localhost:8080/"
        },
        "outputId": "00fa2ec7-87dd-4176-bb5c-475620f3f401"
      },
      "source": [
        "#Creamos un dataframe incluyendo sólo las filas donde la columna \"tracks\" tiene un tamaño mayor que cero.\n",
        "#Esto asegura que sólo se seleccionen listas de reproducción que contienen pistas.\n",
        "#Se seleccionan columnas específicas del DataFrame resultante, incluyendo el nombre de la lista de reproducción, el identificador de la lista de reproducción, el número de seguidores de la lista de reproducción\n",
        "#y todos los datos relacionados con las pistas de la lista de reproducción\n",
        "playlist_tracks_df = (\n",
        "    playlists_df\n",
        "        .where(F.size(F.col(\"tracks\")) > 0) # para\n",
        "        .select(\"*\", F.explode(\"tracks\").alias('track'))\n",
        "        .select(F.col(\"name\").alias(\"playlist_name\"), F.col(\"pid\").alias(\"playlist_pid\"), F.col(num_followers_col_name).alias(\"playlist_num_followers\"), F.col(\"track.*\"))\n",
        "\n",
        "\n",
        ")\n",
        "\n",
        "#Se imprime el data frame\n",
        "playlist_tracks_df.printSchema()\n",
        "playlist_tracks_df.show()"
      ],
      "execution_count": null,
      "outputs": [
        {
          "output_type": "stream",
          "name": "stdout",
          "text": [
            "root\n",
            " |-- playlist_name: string (nullable = true)\n",
            " |-- playlist_pid: long (nullable = true)\n",
            " |-- playlist_num_followers: long (nullable = true)\n",
            " |-- album_name: string (nullable = true)\n",
            " |-- album_uri: string (nullable = true)\n",
            " |-- artist_name: string (nullable = true)\n",
            " |-- artist_uri: string (nullable = true)\n",
            " |-- duration_ms: long (nullable = true)\n",
            " |-- pos: long (nullable = true)\n",
            " |-- track_name: string (nullable = true)\n",
            " |-- track_uri: string (nullable = true)\n",
            "\n",
            "+-------------+------------+----------------------+--------------------+--------------------+--------------------+--------------------+-----------+---+--------------------+--------------------+\n",
            "|playlist_name|playlist_pid|playlist_num_followers|          album_name|           album_uri|         artist_name|          artist_uri|duration_ms|pos|          track_name|           track_uri|\n",
            "+-------------+------------+----------------------+--------------------+--------------------+--------------------+--------------------+-----------+---+--------------------+--------------------+\n",
            "|        Party|     1000000|                    70|        Little Swing|spotify:album:4S5...|           AronChupa|spotify:artist:5v...|     163809|  0|        Little Swing|spotify:track:66U...|\n",
            "|        Party|     1000000|                    70|    I'm an Albatraoz|spotify:album:1qH...|           AronChupa|spotify:artist:5v...|     166848|  1|    I'm an Albatraoz|spotify:track:5Mh...|\n",
            "|        Party|     1000000|                    70| Yellow Flicker Beat|spotify:album:4UE...|               Lorde|spotify:artist:16...|     232506|  2|Yellow Flicker Be...|spotify:track:0GZ...|\n",
            "|        Party|     1000000|                    70|        Pure Heroine|spotify:album:0rm...|               Lorde|spotify:artist:16...|     216600|  3|   White Teeth Teens|spotify:track:35k...|\n",
            "|        Party|     1000000|                    70|        Pure Heroine|spotify:album:0rm...|               Lorde|spotify:artist:16...|     193058|  4|                Team|spotify:track:3G6...|\n",
            "|       school|     1000016|                    73|             Forever|spotify:album:3yq...|              Alesso|spotify:artist:4A...|     210012|  0|Heroes (we could be)|spotify:track:6WQ...|\n",
            "|       school|     1000016|                    73|No Sound Without ...|spotify:album:6yd...|          The Script|spotify:artist:3A...|     245466|  1|         Superheroes|spotify:track:37s...|\n",
            "|       school|     1000016|                    73|American Beauty/A...|spotify:album:0dA...|        Fall Out Boy|spotify:artist:4U...|     228360|  2|           Centuries|spotify:track:0yh...|\n",
            "|       school|     1000016|                    73|     Oh, What A Life|spotify:album:2AA...|    American Authors|spotify:artist:0M...|     194240|  3| Best Day Of My Life|spotify:track:5j9...|\n",
            "|       school|     1000016|                    73|       Night Visions|spotify:album:1vA...|     Imagine Dragons|spotify:artist:53...|     189840|  4| On Top Of The World|spotify:track:4eL...|\n",
            "| Modern Music|     1000020|                    63|             Goddess|spotify:album:1ee...|               Banks|spotify:artist:2x...|     249739|  0|   Beggin For Thread|spotify:track:4Pv...|\n",
            "| Modern Music|     1000020|                    63|   Spreading Rumours|spotify:album:1VN...|           Grouplove|spotify:artist:3k...|     215520|  1|          Ways To Go|spotify:track:57n...|\n",
            "| Modern Music|     1000020|                    63|                 2.0|spotify:album:7Mv...|            Big Data|spotify:artist:4S...|     280426|  2|Dangerous (feat. ...|spotify:track:3y8...|\n",
            "| Modern Music|     1000020|                    63|Strangers to Ours...|spotify:album:6iK...|        Modest Mouse|spotify:artist:1y...|     187720|  3|  Lampshades on Fire|spotify:track:5jJ...|\n",
            "| Modern Music|     1000020|                    63|       Electra Heart|spotify:album:1cb...|Marina and the Di...|spotify:artist:6C...|     221075|  4|          Primadonna|spotify:track:02b...|\n",
            "|      lit 2.0|     1000023|                    49|            Pharmacy|spotify:album:4Qc...|            Galantis|spotify:artist:4s...|     248280|  0|            Firebird|spotify:track:6fK...|\n",
            "|      lit 2.0|     1000023|                    49| Scared to Be Lonely|spotify:album:2v9...|       Martin Garrix|spotify:artist:60...|     220883|  1| Scared to Be Lonely|spotify:track:3eb...|\n",
            "|      lit 2.0|     1000023|                    49|           Limelight|spotify:album:2Pf...|         Just A Gent|spotify:artist:1k...|     254896|  2|Limelight - NGHTM...|spotify:track:1J9...|\n",
            "|      lit 2.0|     1000023|                    49|             Realise|spotify:album:6tL...|             Carmada|spotify:artist:4R...|     238000|  3|           Carmalude|spotify:track:6aB...|\n",
            "|      lit 2.0|     1000023|                    49|                Stay|spotify:album:0VM...|                Zedd|spotify:artist:2q...|     210090|  4|Stay (with Alessi...|spotify:track:0dA...|\n",
            "+-------------+------------+----------------------+--------------------+--------------------+--------------------+--------------------+-----------+---+--------------------+--------------------+\n",
            "only showing top 20 rows\n",
            "\n"
          ]
        }
      ]
    },
    {
      "cell_type": "code",
      "source": [
        "#Se guarda la tabla resultante como Tabla Origen en formato CSV\n",
        "from pyspark.sql import SparkSession\n",
        "\n",
        "#Creamos una sesión de Spark\n",
        "spark = SparkSession.builder.appName(\"GuardarCSV\").getOrCreate()\n",
        "\n",
        "#Reemplazamos \"ruta_del_archivo.csv\" con la ubicación y nombre del archivo CSV de destino en Google Drive\n",
        "ruta_csv = \"/content/drive/My Drive/dataset_spotify.csv\"\n",
        "\n",
        "#Se escribe el DataFrame en un archivo CSV\n",
        "playlist_tracks_df.write.csv(ruta_csv, header=True, mode=\"overwrite\")\n",
        "\n",
        "#Se cierra la sesión de Spark\n",
        "spark.stop()\n",
        "\n"
      ],
      "metadata": {
        "id": "lywrJF3EKugJ"
      },
      "execution_count": null,
      "outputs": []
    }
  ]
}